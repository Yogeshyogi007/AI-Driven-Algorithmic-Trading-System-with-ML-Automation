{
 "cells": [
  {
   "cell_type": "code",
   "execution_count": 3,
   "metadata": {},
   "outputs": [
    {
     "name": "stdout",
     "output_type": "stream",
     "text": [
      "         Date               Close                High                 Low  \\\n",
      "0         NaN                TSLA                TSLA                TSLA   \n",
      "1  2020-01-02   28.68400001525879  28.713333129882812   28.11400032043457   \n",
      "2  2020-01-03  29.534000396728516  30.266666412353516  29.128000259399414   \n",
      "3  2020-01-06    30.1026668548584  30.104000091552734  29.333332061767578   \n",
      "4  2020-01-07  31.270666122436523  31.441999435424805  30.224000930786133   \n",
      "\n",
      "                 Open     Volume  \n",
      "0                TSLA       TSLA  \n",
      "1  28.299999237060547  142981500  \n",
      "2  29.366666793823242  266677500  \n",
      "3  29.364667892456055  151995000  \n",
      "4  30.760000228881836  268231500  \n"
     ]
    }
   ],
   "source": [
    "import pandas as pd\n",
    "\n",
    "# Load and preview the saved data\n",
    "df = pd.read_csv(\"../data/TSLA_data.csv\")\n",
    "print(df.head())\n"
   ]
  },
  {
   "cell_type": "code",
   "execution_count": 5,
   "metadata": {},
   "outputs": [
    {
     "data": {
      "text/html": [
       "<div>\n",
       "<style scoped>\n",
       "    .dataframe tbody tr th:only-of-type {\n",
       "        vertical-align: middle;\n",
       "    }\n",
       "\n",
       "    .dataframe tbody tr th {\n",
       "        vertical-align: top;\n",
       "    }\n",
       "\n",
       "    .dataframe thead th {\n",
       "        text-align: right;\n",
       "    }\n",
       "</style>\n",
       "<table border=\"1\" class=\"dataframe\">\n",
       "  <thead>\n",
       "    <tr style=\"text-align: right;\">\n",
       "      <th></th>\n",
       "      <th>Unnamed: 0</th>\n",
       "    </tr>\n",
       "  </thead>\n",
       "  <tbody>\n",
       "  </tbody>\n",
       "</table>\n",
       "</div>"
      ],
      "text/plain": [
       "Empty DataFrame\n",
       "Columns: [Unnamed: 0]\n",
       "Index: []"
      ]
     },
     "execution_count": 5,
     "metadata": {},
     "output_type": "execute_result"
    }
   ],
   "source": [
    "import pandas as pd\n",
    "\n",
    "# File path\n",
    "file_path = \"../data/tsla_90_days.csv\"\n",
    "\n",
    "# Load the CSV file\n",
    "df = pd.read_csv(file_path)\n",
    "\n",
    "# Display the first few rows of the data\n",
    "df.head()\n"
   ]
  },
  {
   "cell_type": "code",
   "execution_count": 6,
   "metadata": {},
   "outputs": [
    {
     "name": "stdout",
     "output_type": "stream",
     "text": [
      "Empty DataFrame\n",
      "Columns: [timestamp, close, high, low, trade_count, open, volume, vwap, SMA_50, SMA_200, RSI, MACD, MACD_Signal, OBV]\n",
      "Index: []\n"
     ]
    }
   ],
   "source": [
    "import pandas as pd\n",
    "\n",
    "df = pd.read_csv(\"C:/Users/91882/Desktop/College Projects/Ai driven Algorithm trading projext and paper/project/data/tsla_90_days_with_indicators.csv\")\n",
    "print(df.head())  # Check if it contains valid data\n"
   ]
  },
  {
   "cell_type": "code",
   "execution_count": 4,
   "metadata": {},
   "outputs": [
    {
     "name": "stderr",
     "output_type": "stream",
     "text": [
      "WARNING:absl:Compiled the loaded model, but the compiled metrics have yet to be built. `model.compile_metrics` will be empty until you train or evaluate the model.\n"
     ]
    }
   ],
   "source": [
    "import tensorflow as tf\n",
    "\n",
    "# Register 'mse' as MeanSquaredError before loading\n",
    "custom_objects = {\"mse\": tf.keras.losses.MeanSquaredError()}\n",
    "\n",
    "# Load model with custom objects\n",
    "model = tf.keras.models.load_model(\"../models/lstm_trained_model.h5\", custom_objects=custom_objects)\n"
   ]
  }
 ],
 "metadata": {
  "kernelspec": {
   "display_name": "Python 3",
   "language": "python",
   "name": "python3"
  },
  "language_info": {
   "codemirror_mode": {
    "name": "ipython",
    "version": 3
   },
   "file_extension": ".py",
   "mimetype": "text/x-python",
   "name": "python",
   "nbconvert_exporter": "python",
   "pygments_lexer": "ipython3",
   "version": "3.12.3"
  }
 },
 "nbformat": 4,
 "nbformat_minor": 2
}
